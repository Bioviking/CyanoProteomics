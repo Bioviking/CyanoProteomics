{
 "cells": [
  {
   "cell_type": "markdown",
   "metadata": {
    "nbpresent": {
     "id": "dfddf137-e93a-4498-9709-8765d54d8cfa"
    }
   },
   "source": [
    "# **Cyanoproteomics - Ryno Diary**#\n",
    "\n"
   ]
  },
  {
   "cell_type": "markdown",
   "metadata": {
    "nbpresent": {
     "id": "6a703d93-d81c-409d-a725-de16836bb51b"
    }
   },
   "source": [
    "## 24/11/2017##\n",
    "#### Project Introduction##\n",
    "\n",
    "Here we take interest in data from light limitation experiments of Cyanobacteria, carried out in Hudson-lab at KTH/SciLifeLab. Cyanobacteria are of interest for biofuel production as their main source of energy under natural conditions is sunlight, and hence could transfer sunlight into chemical energy.\n",
    "\n",
    "Here we have collected samples from a bioreactor, under 4 different light conditions. The samples (in triplicates) have subsequently been analyzed by LC-MS/MS. The raw data files from the experiment are available from Vital Vialas.\n",
    "\n",
    "Your task is to:\n",
    "\n",
    "- Match your data using MaxLFQ or OpenMS\n",
    "- Evaluate which proteins that are significantly correlating with sunlight. \n",
    "- As the different light conditions render different cell size, estimate the cell volume/surface ratio based on the cytosolic/membrane protein concentration ratio across the different light conditions.\n",
    "\n",
    "Since the data is not published you will have to handle the dataset confidentially\n",
    "\n"
   ]
  },
  {
   "cell_type": "markdown",
   "metadata": {
    "nbpresent": {
     "id": "9adac9d6-b489-407d-8daf-55e39c5c82a6"
    }
   },
   "source": [
    "# **Resources**#\n",
    "\n",
    "Maxquant docs\n",
    "http://www.coxdocs.org/doku.php?id=maxquant:common:download_and_installation\n",
    "\n",
    "Jupyter Notebook\n",
    "https://www.youtube.com/watch?v=q_BzsPxwLOE\n",
    "\n",
    "Proteowizard\n",
    "http://proteowizard.sourceforge.net/downloads.shtml\n",
    "\n",
    "MSconvert????\n"
   ]
  },
  {
   "cell_type": "markdown",
   "metadata": {
    "nbpresent": {
     "id": "d739c7a3-65b5-4564-9207-dd3bcebb842d"
    }
   },
   "source": [
    "#### Diary Template#### \n",
    "\n",
    "**Daily**:\n",
    "\n",
    "\n",
    "**Today Goals**:\n",
    "- A- [ ]\n",
    "- B- [ ]\n",
    "- C- [ ]\n",
    "- D- [ ]\n",
    "- E- [ ]\n",
    "\n",
    "**Time Sheet**\n",
    "\n",
    "05h30 - \n",
    "05h45 - \n",
    "06h00 -  \n",
    "07h00 - Created Jupyter Diary\n",
    "08h00 - Check my Githubs current status\n",
    "09h00 -   \n",
    "10h00 -   \n",
    "10h45 -   \n",
    "11h00 -   \n",
    "11h45 -   \n",
    "12h00 -   \n",
    "12h45 -   \n",
    "13h00 -   \n",
    "14h00 -   \n",
    "14h48 -   \n",
    "15h00 -   \n",
    "16h00 -   \n",
    "\n",
    "\n",
    "**Today Notes**:\n",
    "Completed\n",
    "- [x] \n",
    "- [x]\n",
    "\n",
    "For Next Day:\n",
    "-"
   ]
  },
  {
   "cell_type": "markdown",
   "metadata": {
    "nbpresent": {
     "id": "f6857bcd-22e5-4e8f-a2d0-17553adfc924"
    }
   },
   "source": [
    "## 27/11/2017##\n",
    "**Daily**:\n",
    "\n",
    "\n",
    "**Today Goals**:\n",
    "- A- [ ] Organise group to meet\n",
    "- B- [ ] Email Lukas to make contact with our data\n",
    "- C- [ ] Make contact with our data\n",
    "- D- [ ]Create Project plan with Group\n",
    "- E- [ ] Understand data\n",
    "\n",
    "**Time Sheet**\n",
    "\n",
    "- 08h00 - Email Lukas to make contact with our data\\\n",
    "\n",
    "- 17h00 - Tanja setup of Group Messanger\n",
    "        - Suggests a meetup\n",
    "Evening: \n",
    "- 18h00 - Respond to Lukas's email and to Vital who has our data.\n",
    "        Tina suggests we meet with Vital to discuss the Data.\n",
    "- 21h00 - Email Vital to setup meeting for Tues morning 08h30 at Scilifelab gamma 6\n",
    "        Vital confirmed for meeting\n",
    "- 22h00 - Rest of Group confirm for the meeting\n",
    "\n",
    "**Today Notes**:\n",
    "Completed\n",
    "- [x] Organise group to meet\n",
    "- [x] Email Lukas to make contact with our data\n",
    "\n",
    "For Next Day:\n",
    "- [ ] Group to meet with Vital Make contact with our data Understand data\n",
    "- [ ] Create Project plan with Group"
   ]
  },
  {
   "cell_type": "markdown",
   "metadata": {
    "nbpresent": {
     "id": "a90ade60-276e-423a-9c6e-5409f9a1b097"
    }
   },
   "source": [
    "## 28/11/2017##\n",
    "**Daily**:\n",
    "\n",
    "\n",
    "**Today Goals**:\n",
    "- A - Group to meet with Vital Make contact with our data Understand data\n",
    "- B - Check if my access to the rackham directory worked\n",
    "- C - Create Project plan with Group\n",
    "- D - Create a Github\n",
    "\n",
    "\n",
    "**Time Sheet**\n",
    "- 05h45 - Checked if my access to the rackham directory worked - Confirmed - Yes it works from my Raspberry pi\n",
    "- 06h00 - Updated my Jupyter Diary\n",
    "- 07h00 - Created Jupyter Diary\n",
    "- 08h00 - Check my Githubs current status\n",
    "- 09h00 - Met with Vital\n",
    "        -See the image of Tanja's notes from meeting\n",
    "**Today Notes**:\n",
    "Completed\n",
    "- [x] Group to meet with Vital Make contact with our data Understand data\n",
    "- [x] Check if my access to the rackham directory worked\n",
    "- [x]\n",
    "- [x] \n",
    "\n",
    "For Next Day:\n",
    "- [ ] Create Project plan with Group\n",
    "- [ ] Create a Github\n",
    "- [ ] Create a Google docs with Slides for Project plan presentation"
   ]
  },
  {
   "cell_type": "code",
   "execution_count": 4,
   "metadata": {
    "collapsed": false,
    "nbpresent": {
     "id": "b4ad4ea0-d76e-4db4-b79d-262db624e3dc"
    }
   },
   "outputs": [],
   "source": [
    "import matplotlib.pyplot as plt\n",
    "import matplotlib.image as mpimg\n",
    "#from images2gif import writeGif\n",
    "import pandas as pd\n",
    "import numpy as np"
   ]
  },
  {
   "cell_type": "code",
   "execution_count": 6,
   "metadata": {
    "collapsed": false,
    "nbpresent": {
     "id": "e591c8e0-5ad4-497e-ad64-6c79cbe9ec41"
    }
   },
   "outputs": [
    {
     "data": {
      "image/png": "[encoded data removed]",
      "text/plain": [
       "<matplotlib.figure.Figure at 0x14494532978>"
      ]
     },
     "metadata": {},
     "output_type": "display_data"
    }
   ],
   "source": [
    "img = plt.imread('./Diary/vital_meeting.jpg')\n",
    "imgplot = plt.imshow(img)\n",
    "plt.show()"
   ]
  },
  {
   "cell_type": "markdown",
   "metadata": {
    "nbpresent": {
     "id": "8bea7151-5b17-4445-91c9-dea6005fe96a"
    }
   },
   "source": [
    "## 29/11/2017##\n",
    "**Daily**:\n",
    "- Communicate with group\n",
    "- Update my diary\n",
    "\n",
    "**Today Goals**:\n",
    "- A - Create a Google docs with Slides for Project plan presentation\n",
    "- B - Create Project plan with Group\n",
    "- C - Review project info\n",
    "- D - Create a Github\n",
    "- E - Read up on MaxQuant\n",
    "\n",
    "**Time Sheet**\n",
    "\n",
    "- 09h00 - Create a Google docs with Slides for Project plan presentation\n",
    "        - Shared with Tanja and Tina\n",
    "- 19h00 - Updated my dairy and review project description and project plan\n",
    "        - reviewed the meeting with Vital and the notes\n",
    "\n",
    "**Today Notes**:\n",
    "Completed\n",
    "- [x] Create a Google docs with Slides for Project plan presentation\n",
    "- [x] Create Project plan with Group\n",
    "- [x] Review project info\n",
    "- [x] \n",
    "\n",
    "For Next Day:\n",
    "- [ ] Read up on MaxQuant\n",
    "- [ ] Test if msconvert can run on laptop\n",
    "- [ ] Install software"
   ]
  },
  {
   "cell_type": "code",
   "execution_count": null,
   "metadata": {
    "collapsed": true
   },
   "outputs": [],
   "source": [
    "## 30/11/2017##\n",
    "**Daily**:\n",
    "- Communicate with group\n",
    "- Update my diary\n",
    "\n",
    "**Today Goals**:\n",
    "- A - Project plan presentation\n",
    "- B - Create a Github\n",
    "- C - Read up on MaxQuant\n",
    "- D - Test MSconvert\n",
    "- E - \n",
    "\n",
    "**Time Sheet**\n",
    "\n",
    "- 08h00 - Project plan presentation\n",
    "        - Talk to Lukas about Computer resources as MaxQuant is windows based\n",
    "        - Update notebook\n",
    "        - Update slide for project plan presentation\n",
    "        - Emailed Slides to Olof\n",
    "- 10h00 - \n",
    "\n",
    "**Today Notes**:\n",
    "Completed\n",
    "- [x] \n",
    "- [x] \n",
    "- [x] \n",
    "- [x] \n",
    "\n",
    "For Next Day:\n",
    "- [ ] Read up on MaxQuant\n",
    "- [ ] Test if msconvert can run on laptop\n",
    "- [ ] Install software30"
   ]
  },
  {
   "cell_type": "code",
   "execution_count": 4,
   "metadata": {
    "collapsed": false
   },
   "outputs": [],
   "source": [
    "first_dataset = open('../../data/Cyanogenes.fasta', 'r+')\n",
    "#C:\\Users\\Admin\\Documents\\GitHub\\CyanoProteomics\\docs\\Diary"
   ]
  },
  {
   "cell_type": "code",
   "execution_count": 66,
   "metadata": {
    "collapsed": false
   },
   "outputs": [],
   "source": [
    "    fname = first_dataset\n",
    "    idlist = []\n",
    "    seqlist = []\n",
    "    feat_list = []\n",
    "\n",
    "    for line in fname:\n",
    "        print(line[0:10])\n",
    "        #line = line.strip('\\n').split\n",
    "        #line = line[1]\n",
    "        #idlist.append(line)\n",
    "    #print(line)\n",
    "\n"
   ]
  },
  {
   "cell_type": "code",
   "execution_count": 50,
   "metadata": {
    "collapsed": false
   },
   "outputs": [
    {
     "name": "stdout",
     "output_type": "stream",
     "text": [
      "[]\n"
     ]
    }
   ],
   "source": [
    "print(idlist)"
   ]
  },
  {
   "cell_type": "code",
   "execution_count": 29,
   "metadata": {
    "collapsed": false
   },
   "outputs": [
    {
     "ename": "AttributeError",
     "evalue": "'list' object has no attribute 'head'",
     "output_type": "error",
     "traceback": [
      "\u001b[0;31m---------------------------------------------------------------------------\u001b[0m",
      "\u001b[0;31mAttributeError\u001b[0m                            Traceback (most recent call last)",
      "\u001b[0;32m<ipython-input-29-553bd52c0da7>\u001b[0m in \u001b[0;36m<module>\u001b[0;34m()\u001b[0m\n\u001b[0;32m----> 1\u001b[0;31m \u001b[0mprint\u001b[0m\u001b[1;33m(\u001b[0m\u001b[0midlist\u001b[0m\u001b[1;33m.\u001b[0m\u001b[0mhead\u001b[0m\u001b[1;33m(\u001b[0m\u001b[1;33m)\u001b[0m\u001b[1;33m)\u001b[0m\u001b[1;33m\u001b[0m\u001b[0m\n\u001b[0m",
      "\u001b[0;31mAttributeError\u001b[0m: 'list' object has no attribute 'head'"
     ]
    }
   ],
   "source": []
  },
  {
   "cell_type": "code",
   "execution_count": null,
   "metadata": {
    "collapsed": true
   },
   "outputs": [],
   "source": []
  }
 ],
 "metadata": {
  "anaconda-cloud": {},
  "kernelspec": {
   "display_name": "Python [default]",
   "language": "python",
   "name": "python3"
  },
  "language_info": {
   "codemirror_mode": {
    "name": "ipython",
    "version": 3
   },
   "file_extension": ".py",
   "mimetype": "text/x-python",
   "name": "python",
   "nbconvert_exporter": "python",
   "pygments_lexer": "ipython3",
   "version": "3.5.3"
  },
  "nbpresent": {
   "slides": {
    "41a16547-9d4b-4ee8-8563-63f775197633": {
     "id": "41a16547-9d4b-4ee8-8563-63f775197633",
     "prev": "aee94f2b-c8bb-4cd2-8b20-76fe546f1443",
     "regions": {
      "09b68f09-ca5a-42ba-be79-fad74cbf1ad7": {
       "attrs": {
        "height": 0.8,
        "width": 0.8,
        "x": 0.1,
        "y": 0.1
       },
       "content": {
        "cell": "d739c7a3-65b5-4564-9207-dd3bcebb842d",
        "part": "whole"
       },
       "id": "09b68f09-ca5a-42ba-be79-fad74cbf1ad7"
      }
     }
    },
    "7e1dfb3f-64f6-4780-9428-34b891a5c3cb": {
     "id": "7e1dfb3f-64f6-4780-9428-34b891a5c3cb",
     "prev": "a4048f45-eeb6-4e24-a3c1-fc3130bc6ad1",
     "regions": {
      "833d4463-5739-4d79-bc69-e7fb8d20a794": {
       "attrs": {
        "height": 0.8,
        "width": 0.8,
        "x": 0.1,
        "y": 0.1
       },
       "content": {
        "cell": "a90ade60-276e-423a-9c6e-5409f9a1b097",
        "part": "whole"
       },
       "id": "833d4463-5739-4d79-bc69-e7fb8d20a794"
      }
     }
    },
    "a4048f45-eeb6-4e24-a3c1-fc3130bc6ad1": {
     "id": "a4048f45-eeb6-4e24-a3c1-fc3130bc6ad1",
     "prev": "41a16547-9d4b-4ee8-8563-63f775197633",
     "regions": {
      "19909334-fd12-4944-854e-ee25f4787999": {
       "attrs": {
        "height": 0.8,
        "width": 0.8,
        "x": 0.1,
        "y": 0.1
       },
       "content": {
        "cell": "f6857bcd-22e5-4e8f-a2d0-17553adfc924",
        "part": "whole"
       },
       "id": "19909334-fd12-4944-854e-ee25f4787999"
      }
     }
    },
    "aee94f2b-c8bb-4cd2-8b20-76fe546f1443": {
     "id": "aee94f2b-c8bb-4cd2-8b20-76fe546f1443",
     "prev": "f4bcc88a-26ac-43c3-9b6f-6e98fbbf8761",
     "regions": {
      "ad86c60b-57bf-4e9c-b9d5-b5acf2cb1796": {
       "attrs": {
        "height": 0.8,
        "width": 0.8,
        "x": 0.1,
        "y": 0.1
       },
       "content": {
        "cell": "9adac9d6-b489-407d-8daf-55e39c5c82a6",
        "part": "whole"
       },
       "id": "ad86c60b-57bf-4e9c-b9d5-b5acf2cb1796"
      }
     }
    },
    "b3b4e6c0-dbe2-488f-822b-de0f7385dfc0": {
     "id": "b3b4e6c0-dbe2-488f-822b-de0f7385dfc0",
     "prev": "b41d5226-a0e1-432b-9684-0453992686d8",
     "regions": {
      "c9128383-1933-4c8e-a06b-f785f9c9a287": {
       "attrs": {
        "height": 0.8,
        "width": 0.8,
        "x": 0.1,
        "y": 0.1
       },
       "content": {
        "cell": "8bea7151-5b17-4445-91c9-dea6005fe96a",
        "part": "whole"
       },
       "id": "c9128383-1933-4c8e-a06b-f785f9c9a287"
      }
     }
    },
    "b41d5226-a0e1-432b-9684-0453992686d8": {
     "id": "b41d5226-a0e1-432b-9684-0453992686d8",
     "prev": "d0089802-97d4-4604-8075-397b69bc6b4e",
     "regions": {
      "3c2b4014-a293-4b48-aca3-bc5fcf2af5fe": {
       "attrs": {
        "height": 0.8,
        "width": 0.8,
        "x": 0.1,
        "y": 0.1
       },
       "content": {
        "cell": "e591c8e0-5ad4-497e-ad64-6c79cbe9ec41",
        "part": "whole"
       },
       "id": "3c2b4014-a293-4b48-aca3-bc5fcf2af5fe"
      }
     }
    },
    "d0089802-97d4-4604-8075-397b69bc6b4e": {
     "id": "d0089802-97d4-4604-8075-397b69bc6b4e",
     "prev": "7e1dfb3f-64f6-4780-9428-34b891a5c3cb",
     "regions": {
      "9a8d8608-f300-440f-818e-f6349fca823d": {
       "attrs": {
        "height": 0.8,
        "width": 0.8,
        "x": 0.1,
        "y": 0.1
       },
       "content": {
        "cell": "b4ad4ea0-d76e-4db4-b79d-262db624e3dc",
        "part": "whole"
       },
       "id": "9a8d8608-f300-440f-818e-f6349fca823d"
      }
     }
    },
    "e5dc4c67-0aa6-451f-ac05-52028f288140": {
     "id": "e5dc4c67-0aa6-451f-ac05-52028f288140",
     "prev": null,
     "regions": {
      "7f55a229-6c7e-4b3a-9003-ca47076b80d6": {
       "attrs": {
        "height": 0.8,
        "width": 0.8,
        "x": 0.1,
        "y": 0.1
       },
       "content": {
        "cell": "dfddf137-e93a-4498-9709-8765d54d8cfa",
        "part": "whole"
       },
       "id": "7f55a229-6c7e-4b3a-9003-ca47076b80d6"
      }
     }
    },
    "f4bcc88a-26ac-43c3-9b6f-6e98fbbf8761": {
     "id": "f4bcc88a-26ac-43c3-9b6f-6e98fbbf8761",
     "prev": "e5dc4c67-0aa6-451f-ac05-52028f288140",
     "regions": {
      "b37a67ba-0036-448d-a1fb-9ce64f3580fb": {
       "attrs": {
        "height": 0.8,
        "width": 0.8,
        "x": 0.1,
        "y": 0.1
       },
       "content": {
        "cell": "6a703d93-d81c-409d-a725-de16836bb51b",
        "part": "whole"
       },
       "id": "b37a67ba-0036-448d-a1fb-9ce64f3580fb"
      }
     }
    }
   },
   "themes": {}
  }
 },
 "nbformat": 4,
 "nbformat_minor": 1
}
